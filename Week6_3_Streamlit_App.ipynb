{
  "cells": [
    {
      "cell_type": "markdown",
      "metadata": {
        "id": "view-in-github",
        "colab_type": "text"
      },
      "source": [
        "<a href=\"https://colab.research.google.com/github/xingji1337/week6HO/blob/trackc/Week6_3_Streamlit_App.ipynb\" target=\"_parent\"><img src=\"https://colab.research.google.com/assets/colab-badge.svg\" alt=\"Open In Colab\"/></a>"
      ]
    },
    {
      "cell_type": "markdown",
      "id": "64edeed9",
      "metadata": {
        "id": "64edeed9"
      },
      "source": [
        "# Week 6 — Streamlit App (Graph-RAG + Multi-Hop)\n",
        "**Goal:** Expose your advanced pipeline via a simple web app.\n"
      ]
    },
    {
      "cell_type": "code",
      "execution_count": 18,
      "id": "c2c5f7d3",
      "metadata": {
        "colab": {
          "base_uri": "https://localhost:8080/"
        },
        "id": "c2c5f7d3",
        "outputId": "444ae99f-4cf3-441a-dc51-8715422e5491"
      },
      "outputs": [
        {
          "output_type": "stream",
          "name": "stdout",
          "text": [
            "Wrote app files to: app_week6_streamlit\n"
          ]
        }
      ],
      "source": [
        "\n",
        "#@title Write Streamlit app files\n",
        "import os\n",
        "APP_DIR = \"app_week6_streamlit\"\n",
        "os.makedirs(APP_DIR, exist_ok=True)\n",
        "\n",
        "app_py = '''import streamlit as st\n",
        "import time\n",
        "\n",
        "st.set_page_config(page_title=\"Week 6: Next-Level RAG\", layout=\"wide\")\n",
        "st.title(\"Week 6 • Graph-RAG + Multi-Hop Demo\")\n",
        "\n",
        "def graph_rag(query:str):\n",
        "    time.sleep(0.2)\n",
        "    return {\"answer\":\"(demo) Graph-RAG answer with [doc1], [doc4].\",\n",
        "            \"evidence\":[{\"doc\":\"doc1\",\"span\":\"Method X compared on Dataset D1 (F1=0.78).\"},\n",
        "                        {\"doc\":\"doc4\",\"span\":\"Paper P3 applies Method X to D2 (Acc=0.82).\"}],\n",
        "            \"neighbors\":[(\"Method X\",\"evaluated_on\",\"Dataset D1\"),(\"Method X\",\"reported_in\",\"Paper P3\")],\n",
        "            \"trace\":[(\"route\",\"Graph-RAG\"),(\"retrieve\",\"6 spans\"),(\"synthesize\",\"ok\")],\n",
        "            \"latency\":0.45,\"tokens_in\":950,\"tokens_out\":160}\n",
        "\n",
        "def multi_hop(query:str):\n",
        "    time.sleep(0.35)\n",
        "    return {\"final\":\"(demo) Paper P3 ; Dataset D1\",\n",
        "            \"subqs\":[\"Which paper introduced Method X?\",\"Which dataset did that paper use for F1?\"],\n",
        "            \"hops\":[{\"subq\":\"Which paper introduced Method X?\",\"answer\":\"Paper P3\",\"citations\":[\"doc4\"]},\n",
        "                    {\"subq\":\"Which dataset did that paper use for F1?\",\"answer\":\"Dataset D1\",\"citations\":[\"doc1\"]}],\n",
        "            \"trace\":[(\"decompose\",\"2 hops\"),(\"hop1\",\"ok\"),(\"hop2\",\"ok\")]}\n",
        "\n",
        "with st.sidebar:\n",
        "    st.header(\"Settings\")\n",
        "    mode = st.selectbox(\"Mode\", [\"Graph-RAG\",\"Multi-Hop\"])\n",
        "    show_graph = st.checkbox(\"Show neighbor graph (demo)\", value=True)\n",
        "\n",
        "q = st.text_area(\"Ask a question:\", \"Which dataset did the paper that introduced Method X use for F1?\")\n",
        "if st.button(\"Run\") and q.strip():\n",
        "    if mode == \"Graph-RAG\":\n",
        "        out = graph_rag(q)\n",
        "        st.subheader(\"Answer\"); st.write(out[\"answer\"])\n",
        "        st.markdown(\"**Evidence**\")\n",
        "        for e in out[\"evidence\"]:\n",
        "            st.markdown(f\"- **{e['doc']}**: {e['span']}\")\n",
        "        if show_graph:\n",
        "            st.markdown(\"**Neighbor Triples (demo)**\")\n",
        "            for h,r,t in out[\"neighbors\"]:\n",
        "                st.write(f\"{h} —[{r}]→ {t}\")\n",
        "        st.markdown(\"**Trace**\")\n",
        "        for s,i in out[\"trace\"]:\n",
        "            st.write(f\"- {s}: {i}\")\n",
        "        st.caption(f\"Latency: {out['latency']}s | Tokens: in {out['tokens_in']}, out {out['tokens_out']}\")\n",
        "    else:\n",
        "        res = multi_hop(q)\n",
        "        st.subheader(\"Final\"); st.write(res[\"final\"])\n",
        "        st.markdown(\"**Sub-Questions & Citations**\")\n",
        "        for i, h in enumerate(res[\"hops\"], 1):\n",
        "            st.write(f\"**Hop {i}** — {h['subq']} ⇒ {h['answer']} (citations: {', '.join(h['citations'])})\")\n",
        "        st.markdown(\"**Trace**\")\n",
        "        for s,i in res[\"trace\"]:\n",
        "            st.write(f\"- {s}: {i}\")\n",
        "'''\n",
        "with open(os.path.join(APP_DIR, \"app.py\"), \"w\") as f:\n",
        "    f.write(app_py)\n",
        "\n",
        "with open(os.path.join(APP_DIR, \"requirements.txt\"), \"w\") as f:\n",
        "    f.write(\"streamlit\\npyyaml\\nnetworkx\\n\")\n",
        "\n",
        "print(\"Wrote app files to:\", APP_DIR)\n"
      ]
    },
    {
      "cell_type": "code",
      "execution_count": null,
      "id": "4beb01c6",
      "metadata": {
        "colab": {
          "base_uri": "https://localhost:8080/"
        },
        "id": "4beb01c6",
        "outputId": "08719d72-4c13-48d5-f490-0a65533ab8f8"
      },
      "outputs": [
        {
          "name": "stdout",
          "output_type": "stream",
          "text": [
            "In Colab, run the following in a cell to launch:\n",
            "!pip install -q streamlit pyngrok\n",
            "from pyngrok import ngrok\n",
            "public_url = ngrok.connect(8501).public_url; print('Public URL:', public_url)\n",
            "!streamlit run app_week6_streamlit/app.py --server.port 8501 --server.headless true\n"
          ]
        }
      ],
      "source": [
        "\n",
        "#@title (Optional) Colab launch snippet\n",
        "print(\"In Colab, run the following in a cell to launch:\")\n",
        "print(\"!pip install -q streamlit pyngrok\")\n",
        "print(\"from pyngrok import ngrok\")\n",
        "print(\"public_url = ngrok.connect(8501).public_url; print('Public URL:', public_url)\")\n",
        "print(\"!streamlit run app_week6_streamlit/app.py --server.port 8501 --server.headless true\")\n"
      ]
    },
    {
      "cell_type": "code",
      "source": [
        "!pip install -q streamlit pyngrok\n",
        "# from pyngrok import ngrok # Commented out ngrok\n",
        "# public_url = ngrok.connect(8501).public_url; print('Public URL:', public_url) # Commented out ngrok connection\n",
        "\n",
        "# Use cloudflared instead\n",
        "!streamlit run app_week6_streamlit/app.py --server.port 8501 --server.headless true &>/content/streamlit.log &\n",
        "!./cloudflared-linux-amd64 tunnel --url http://localhost:8501 --no-autoupdate"
      ],
      "metadata": {
        "colab": {
          "base_uri": "https://localhost:8080/"
        },
        "id": "ioLRjHPZHM-Q",
        "outputId": "6f11bc89-c337-409f-b6b5-ecc32d3fd809"
      },
      "id": "ioLRjHPZHM-Q",
      "execution_count": 20,
      "outputs": [
        {
          "output_type": "stream",
          "name": "stdout",
          "text": [
            "\u001b[90m2025-10-07T00:41:38Z\u001b[0m \u001b[32mINF\u001b[0m Thank you for trying Cloudflare Tunnel. Doing so, without a Cloudflare account, is a quick way to experiment and try it out. However, be aware that these account-less Tunnels have no uptime guarantee, are subject to the Cloudflare Online Services Terms of Use (https://www.cloudflare.com/website-terms/), and Cloudflare reserves the right to investigate your use of Tunnels for violations of such terms. If you intend to use Tunnels in production you should use a pre-created named tunnel by following: https://developers.cloudflare.com/cloudflare-one/connections/connect-apps\n",
            "\u001b[90m2025-10-07T00:41:38Z\u001b[0m \u001b[32mINF\u001b[0m Requesting new quick Tunnel on trycloudflare.com...\n",
            "\u001b[90m2025-10-07T00:41:41Z\u001b[0m \u001b[32mINF\u001b[0m +--------------------------------------------------------------------------------------------+\n",
            "\u001b[90m2025-10-07T00:41:41Z\u001b[0m \u001b[32mINF\u001b[0m |  Your quick Tunnel has been created! Visit it at (it may take some time to be reachable):  |\n",
            "\u001b[90m2025-10-07T00:41:41Z\u001b[0m \u001b[32mINF\u001b[0m |  https://wrestling-source-quantity-discrete.trycloudflare.com                              |\n",
            "\u001b[90m2025-10-07T00:41:41Z\u001b[0m \u001b[32mINF\u001b[0m +--------------------------------------------------------------------------------------------+\n",
            "\u001b[90m2025-10-07T00:41:41Z\u001b[0m \u001b[32mINF\u001b[0m Cannot determine default configuration path. No file [config.yml config.yaml] in [~/.cloudflared ~/.cloudflare-warp ~/cloudflare-warp /etc/cloudflared /usr/local/etc/cloudflared]\n",
            "\u001b[90m2025-10-07T00:41:41Z\u001b[0m \u001b[32mINF\u001b[0m Version 2025.9.1 (Checksum 3dc1dc4252eae3c691861f926e2b8640063a2ce534b07b7a3f4ec2de439ecfe3)\n",
            "\u001b[90m2025-10-07T00:41:41Z\u001b[0m \u001b[32mINF\u001b[0m GOOS: linux, GOVersion: go1.24.4, GoArch: amd64\n",
            "\u001b[90m2025-10-07T00:41:41Z\u001b[0m \u001b[32mINF\u001b[0m Settings: map[ha-connections:1 no-autoupdate:true protocol:quic url:http://localhost:8501]\n",
            "\u001b[90m2025-10-07T00:41:41Z\u001b[0m \u001b[32mINF\u001b[0m cloudflared will not automatically update when run from the shell. To enable auto-updates, run cloudflared as a service: https://developers.cloudflare.com/cloudflare-one/connections/connect-apps/configure-tunnels/local-management/as-a-service/\n",
            "\u001b[90m2025-10-07T00:41:41Z\u001b[0m \u001b[32mINF\u001b[0m Generated Connector ID: 64626e46-ac05-4033-9aa0-764ac163c360\n",
            "\u001b[90m2025-10-07T00:41:41Z\u001b[0m \u001b[32mINF\u001b[0m Initial protocol quic\n",
            "\u001b[90m2025-10-07T00:41:41Z\u001b[0m \u001b[32mINF\u001b[0m ICMP proxy will use 172.28.0.12 as source for IPv4\n",
            "\u001b[90m2025-10-07T00:41:41Z\u001b[0m \u001b[32mINF\u001b[0m ICMP proxy will use :: as source for IPv6\n",
            "\u001b[90m2025-10-07T00:41:41Z\u001b[0m \u001b[1m\u001b[31mERR\u001b[0m\u001b[0m Cannot determine default origin certificate path. No file cert.pem in [~/.cloudflared ~/.cloudflare-warp ~/cloudflare-warp /etc/cloudflared /usr/local/etc/cloudflared]. You need to specify the origin certificate path by specifying the origincert option in the configuration file, or set TUNNEL_ORIGIN_CERT environment variable \u001b[36moriginCertPath=\u001b[0m\n",
            "\u001b[90m2025-10-07T00:41:41Z\u001b[0m \u001b[32mINF\u001b[0m ICMP proxy will use 172.28.0.12 as source for IPv4\n",
            "\u001b[90m2025-10-07T00:41:41Z\u001b[0m \u001b[32mINF\u001b[0m ICMP proxy will use :: as source for IPv6\n",
            "\u001b[90m2025-10-07T00:41:41Z\u001b[0m \u001b[32mINF\u001b[0m Starting metrics server on 127.0.0.1:20241/metrics\n",
            "\u001b[90m2025-10-07T00:41:41Z\u001b[0m \u001b[32mINF\u001b[0m Tunnel connection curve preferences: [X25519MLKEM768 CurveP256] \u001b[36mconnIndex=\u001b[0m0 \u001b[36mevent=\u001b[0m0 \u001b[36mip=\u001b[0m198.41.192.77\n",
            "2025/10/07 00:41:41 failed to sufficiently increase receive buffer size (was: 208 kiB, wanted: 7168 kiB, got: 416 kiB). See https://github.com/quic-go/quic-go/wiki/UDP-Buffer-Sizes for details.\n",
            "\u001b[90m2025-10-07T00:41:41Z\u001b[0m \u001b[32mINF\u001b[0m Registered tunnel connection \u001b[36mconnIndex=\u001b[0m0 \u001b[36mconnection=\u001b[0m4cae9156-90d3-402e-b270-2225a2fbea76 \u001b[36mevent=\u001b[0m0 \u001b[36mip=\u001b[0m198.41.192.77 \u001b[36mlocation=\u001b[0mlax08 \u001b[36mprotocol=\u001b[0mquic\n",
            "\u001b[90m2025-10-07T00:46:50Z\u001b[0m \u001b[32mINF\u001b[0m Initiating graceful shutdown due to signal interrupt ...\n",
            "\u001b[90m2025-10-07T00:46:50Z\u001b[0m \u001b[1m\u001b[31mERR\u001b[0m\u001b[0m failed to run the datagram handler \u001b[31merror=\u001b[0m\u001b[31m\"context canceled\"\u001b[0m \u001b[36mconnIndex=\u001b[0m0 \u001b[36mevent=\u001b[0m0 \u001b[36mip=\u001b[0m198.41.192.77\n",
            "\u001b[90m2025-10-07T00:46:50Z\u001b[0m \u001b[1m\u001b[31mERR\u001b[0m\u001b[0m failed to serve tunnel connection \u001b[31merror=\u001b[0m\u001b[31m\"accept stream listener encountered a failure while serving\"\u001b[0m \u001b[36mconnIndex=\u001b[0m0 \u001b[36mevent=\u001b[0m0 \u001b[36mip=\u001b[0m198.41.192.77\n",
            "\u001b[90m2025-10-07T00:46:50Z\u001b[0m \u001b[1m\u001b[31mERR\u001b[0m\u001b[0m Serve tunnel error \u001b[31merror=\u001b[0m\u001b[31m\"accept stream listener encountered a failure while serving\"\u001b[0m \u001b[36mconnIndex=\u001b[0m0 \u001b[36mevent=\u001b[0m0 \u001b[36mip=\u001b[0m198.41.192.77\n",
            "\u001b[90m2025-10-07T00:46:50Z\u001b[0m \u001b[32mINF\u001b[0m Retrying connection in up to 1s \u001b[36mconnIndex=\u001b[0m0 \u001b[36mevent=\u001b[0m0 \u001b[36mip=\u001b[0m198.41.192.77\n",
            "\u001b[90m2025-10-07T00:46:50Z\u001b[0m \u001b[1m\u001b[31mERR\u001b[0m\u001b[0m Connection terminated \u001b[36mconnIndex=\u001b[0m0\n",
            "\u001b[90m2025-10-07T00:46:50Z\u001b[0m \u001b[1m\u001b[31mERR\u001b[0m\u001b[0m no more connections active and exiting\n",
            "\u001b[90m2025-10-07T00:46:50Z\u001b[0m \u001b[32mINF\u001b[0m Metrics server stopped\n",
            "\u001b[90m2025-10-07T00:46:50Z\u001b[0m \u001b[32mINF\u001b[0m Tunnel server stopped\n"
          ]
        }
      ]
    },
    {
      "cell_type": "code",
      "execution_count": null,
      "id": "PVoygwr3t8tf",
      "metadata": {
        "id": "PVoygwr3t8tf"
      },
      "outputs": [],
      "source": [
        "!pip -q install streamlit==1.38.0\n",
        "!wget -q https://github.com/cloudflare/cloudflared/releases/latest/download/cloudflared-linux-amd64\n",
        "!chmod +x cloudflared-linux-amd64"
      ]
    },
    {
      "cell_type": "code",
      "execution_count": 17,
      "id": "E65WPqZnuswC",
      "metadata": {
        "colab": {
          "base_uri": "https://localhost:8080/"
        },
        "id": "E65WPqZnuswC",
        "outputId": "35cdde21-588d-4cb7-cbf9-e236a5ab654e"
      },
      "outputs": [
        {
          "output_type": "stream",
          "name": "stdout",
          "text": [
            "\u001b[90m2025-10-07T00:03:21Z\u001b[0m \u001b[32mINF\u001b[0m Thank you for trying Cloudflare Tunnel. Doing so, without a Cloudflare account, is a quick way to experiment and try it out. However, be aware that these account-less Tunnels have no uptime guarantee, are subject to the Cloudflare Online Services Terms of Use (https://www.cloudflare.com/website-terms/), and Cloudflare reserves the right to investigate your use of Tunnels for violations of such terms. If you intend to use Tunnels in production you should use a pre-created named tunnel by following: https://developers.cloudflare.com/cloudflare-one/connections/connect-apps\n",
            "\u001b[90m2025-10-07T00:03:21Z\u001b[0m \u001b[32mINF\u001b[0m Requesting new quick Tunnel on trycloudflare.com...\n",
            "\u001b[90m2025-10-07T00:03:25Z\u001b[0m \u001b[32mINF\u001b[0m +--------------------------------------------------------------------------------------------+\n",
            "\u001b[90m2025-10-07T00:03:25Z\u001b[0m \u001b[32mINF\u001b[0m |  Your quick Tunnel has been created! Visit it at (it may take some time to be reachable):  |\n",
            "\u001b[90m2025-10-07T00:03:25Z\u001b[0m \u001b[32mINF\u001b[0m |  https://resolution-packed-enclosed-automobiles.trycloudflare.com                          |\n",
            "\u001b[90m2025-10-07T00:03:25Z\u001b[0m \u001b[32mINF\u001b[0m +--------------------------------------------------------------------------------------------+\n",
            "\u001b[90m2025-10-07T00:03:25Z\u001b[0m \u001b[32mINF\u001b[0m Cannot determine default configuration path. No file [config.yml config.yaml] in [~/.cloudflared ~/.cloudflare-warp ~/cloudflare-warp /etc/cloudflared /usr/local/etc/cloudflared]\n",
            "\u001b[90m2025-10-07T00:03:25Z\u001b[0m \u001b[32mINF\u001b[0m Version 2025.9.1 (Checksum 3dc1dc4252eae3c691861f926e2b8640063a2ce534b07b7a3f4ec2de439ecfe3)\n",
            "\u001b[90m2025-10-07T00:03:25Z\u001b[0m \u001b[32mINF\u001b[0m GOOS: linux, GOVersion: go1.24.4, GoArch: amd64\n",
            "\u001b[90m2025-10-07T00:03:25Z\u001b[0m \u001b[32mINF\u001b[0m Settings: map[ha-connections:1 no-autoupdate:true protocol:quic url:http://localhost:8501]\n",
            "\u001b[90m2025-10-07T00:03:25Z\u001b[0m \u001b[32mINF\u001b[0m cloudflared will not automatically update when run from the shell. To enable auto-updates, run cloudflared as a service: https://developers.cloudflare.com/cloudflare-one/connections/connect-apps/configure-tunnels/local-management/as-a-service/\n",
            "\u001b[90m2025-10-07T00:03:25Z\u001b[0m \u001b[32mINF\u001b[0m Generated Connector ID: 36e3af89-cdec-4be6-a6f9-5bb11137c04e\n",
            "\u001b[90m2025-10-07T00:03:25Z\u001b[0m \u001b[32mINF\u001b[0m Initial protocol quic\n",
            "\u001b[90m2025-10-07T00:03:25Z\u001b[0m \u001b[32mINF\u001b[0m ICMP proxy will use 172.28.0.12 as source for IPv4\n",
            "\u001b[90m2025-10-07T00:03:25Z\u001b[0m \u001b[32mINF\u001b[0m ICMP proxy will use :: as source for IPv6\n",
            "\u001b[90m2025-10-07T00:03:25Z\u001b[0m \u001b[1m\u001b[31mERR\u001b[0m\u001b[0m Cannot determine default origin certificate path. No file cert.pem in [~/.cloudflared ~/.cloudflare-warp ~/cloudflare-warp /etc/cloudflared /usr/local/etc/cloudflared]. You need to specify the origin certificate path by specifying the origincert option in the configuration file, or set TUNNEL_ORIGIN_CERT environment variable \u001b[36moriginCertPath=\u001b[0m\n",
            "\u001b[90m2025-10-07T00:03:25Z\u001b[0m \u001b[32mINF\u001b[0m ICMP proxy will use 172.28.0.12 as source for IPv4\n",
            "\u001b[90m2025-10-07T00:03:25Z\u001b[0m \u001b[32mINF\u001b[0m ICMP proxy will use :: as source for IPv6\n",
            "\u001b[90m2025-10-07T00:03:25Z\u001b[0m \u001b[32mINF\u001b[0m Starting metrics server on 127.0.0.1:20241/metrics\n",
            "\u001b[90m2025-10-07T00:03:25Z\u001b[0m \u001b[32mINF\u001b[0m Tunnel connection curve preferences: [X25519MLKEM768 CurveP256] \u001b[36mconnIndex=\u001b[0m0 \u001b[36mevent=\u001b[0m0 \u001b[36mip=\u001b[0m198.41.192.37\n",
            "2025/10/07 00:03:25 failed to sufficiently increase receive buffer size (was: 208 kiB, wanted: 7168 kiB, got: 416 kiB). See https://github.com/quic-go/quic-go/wiki/UDP-Buffer-Sizes for details.\n",
            "\u001b[90m2025-10-07T00:03:25Z\u001b[0m \u001b[32mINF\u001b[0m Registered tunnel connection \u001b[36mconnIndex=\u001b[0m0 \u001b[36mconnection=\u001b[0md5484414-bdc8-48a5-8eae-417d0dede65a \u001b[36mevent=\u001b[0m0 \u001b[36mip=\u001b[0m198.41.192.37 \u001b[36mlocation=\u001b[0mlax08 \u001b[36mprotocol=\u001b[0mquic\n",
            "\u001b[90m2025-10-07T00:39:59Z\u001b[0m \u001b[32mINF\u001b[0m Initiating graceful shutdown due to signal interrupt ...\n",
            "\u001b[90m2025-10-07T00:39:59Z\u001b[0m \u001b[1m\u001b[31mERR\u001b[0m\u001b[0m failed to run the datagram handler \u001b[31merror=\u001b[0m\u001b[31m\"context canceled\"\u001b[0m \u001b[36mconnIndex=\u001b[0m0 \u001b[36mevent=\u001b[0m0 \u001b[36mip=\u001b[0m198.41.192.37\n",
            "\u001b[90m2025-10-07T00:39:59Z\u001b[0m \u001b[1m\u001b[31mERR\u001b[0m\u001b[0m failed to serve tunnel connection \u001b[31merror=\u001b[0m\u001b[31m\"accept stream listener encountered a failure while serving\"\u001b[0m \u001b[36mconnIndex=\u001b[0m0 \u001b[36mevent=\u001b[0m0 \u001b[36mip=\u001b[0m198.41.192.37\n",
            "\u001b[90m2025-10-07T00:39:59Z\u001b[0m \u001b[1m\u001b[31mERR\u001b[0m\u001b[0m Serve tunnel error \u001b[31merror=\u001b[0m\u001b[31m\"accept stream listener encountered a failure while serving\"\u001b[0m \u001b[36mconnIndex=\u001b[0m0 \u001b[36mevent=\u001b[0m0 \u001b[36mip=\u001b[0m198.41.192.37\n",
            "\u001b[90m2025-10-07T00:39:59Z\u001b[0m \u001b[32mINF\u001b[0m Retrying connection in up to 1s \u001b[36mconnIndex=\u001b[0m0 \u001b[36mevent=\u001b[0m0 \u001b[36mip=\u001b[0m198.41.192.37\n",
            "\u001b[90m2025-10-07T00:39:59Z\u001b[0m \u001b[1m\u001b[31mERR\u001b[0m\u001b[0m Connection terminated \u001b[36mconnIndex=\u001b[0m0\n",
            "\u001b[90m2025-10-07T00:39:59Z\u001b[0m \u001b[1m\u001b[31mERR\u001b[0m\u001b[0m no more connections active and exiting\n",
            "\u001b[90m2025-10-07T00:39:59Z\u001b[0m \u001b[32mINF\u001b[0m Tunnel server stopped\n",
            "\u001b[90m2025-10-07T00:39:59Z\u001b[0m \u001b[32mINF\u001b[0m Metrics server stopped\n"
          ]
        }
      ],
      "source": [
        "!pip -q install streamlit==1.38.0\n",
        "!wget -q https://github.com/cloudflare/cloudflared/releases/latest/download/cloudflared-linux-amd64\n",
        "!chmod +x cloudflared-linux-amd64\n",
        "\n",
        "# move into the folder that contains app_track_c.py and modules/\n",
        "# (if your files are on Drive, mount and cd there)\n",
        "# Example:\n",
        "# from google.colab import drive; drive.mount('/content/drive')\n",
        "# %cd /content/drive/MyDrive/week6\n",
        "\n",
        "# start streamlit (background) and open a public URL\n",
        "!streamlit run app_track_c.py &>/content/streamlit.log &\n",
        "!./cloudflared-linux-amd64 tunnel --url http://localhost:8501 --no-autoupdate"
      ]
    }
  ],
  "metadata": {
    "colab": {
      "provenance": [],
      "include_colab_link": true
    },
    "kernelspec": {
      "display_name": "Python 3",
      "name": "python3"
    },
    "language_info": {
      "name": "python"
    }
  },
  "nbformat": 4,
  "nbformat_minor": 5
}