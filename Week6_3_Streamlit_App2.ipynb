{
  "cells": [
    {
      "cell_type": "markdown",
      "metadata": {
        "id": "view-in-github",
        "colab_type": "text"
      },
      "source": [
        "<a href=\"https://colab.research.google.com/github/xingji1337/week6HO/blob/main/Week6_3_Streamlit_App2.ipynb\" target=\"_parent\"><img src=\"https://colab.research.google.com/assets/colab-badge.svg\" alt=\"Open In Colab\"/></a>"
      ]
    },
    {
      "cell_type": "markdown",
      "id": "64edeed9",
      "metadata": {
        "id": "64edeed9"
      },
      "source": [
        "# Week 6 — Streamlit App (Graph-RAG + Multi-Hop)\n",
        "**Goal:** Expose your advanced pipeline via a simple web app.\n"
      ]
    },
    {
      "cell_type": "code",
      "source": [
        "!pkill -f streamlit || true\n",
        "!pkill -f cloudflared || true"
      ],
      "metadata": {
        "colab": {
          "base_uri": "https://localhost:8080/"
        },
        "id": "LJIn-ARSCj-G",
        "outputId": "83ef76d0-59a6-4f7e-bf03-02abe642c842"
      },
      "id": "LJIn-ARSCj-G",
      "execution_count": null,
      "outputs": [
        {
          "output_type": "stream",
          "name": "stdout",
          "text": [
            "^C\n",
            "^C\n"
          ]
        }
      ]
    },
    {
      "cell_type": "code",
      "source": [
        "!pip -q install streamlit==1.38.0 sentence-transformers networkx spacy\n",
        "!python -m spacy download en_core_web_sm\n",
        "!wget -q https://github.com/cloudflare/cloudflared/releases/latest/download/cloudflared-linux-amd64\n",
        "!chmod +x cloudflared-linux-amd64"
      ],
      "metadata": {
        "colab": {
          "base_uri": "https://localhost:8080/"
        },
        "id": "QTNSwbPgCnuM",
        "outputId": "40db2f4b-3d10-4af2-a3f1-92aaec16a54f"
      },
      "id": "QTNSwbPgCnuM",
      "execution_count": null,
      "outputs": [
        {
          "output_type": "stream",
          "name": "stdout",
          "text": [
            "Collecting en-core-web-sm==3.8.0\n",
            "  Downloading https://github.com/explosion/spacy-models/releases/download/en_core_web_sm-3.8.0/en_core_web_sm-3.8.0-py3-none-any.whl (12.8 MB)\n",
            "\u001b[2K     \u001b[90m━━━━━━━━━━━━━━━━━━━━━━━━━━━━━━━━━━━━━━━\u001b[0m \u001b[32m12.8/12.8 MB\u001b[0m \u001b[31m139.3 MB/s\u001b[0m eta \u001b[36m0:00:00\u001b[0m\n",
            "\u001b[?25h\u001b[38;5;2m✔ Download and installation successful\u001b[0m\n",
            "You can now load the package via spacy.load('en_core_web_sm')\n",
            "\u001b[38;5;3m⚠ Restart to reload dependencies\u001b[0m\n",
            "If you are in a Jupyter or Colab notebook, you may need to restart Python in\n",
            "order to load all the package's dependencies. You can do this by selecting the\n",
            "'Restart kernel' or 'Restart runtime' option.\n"
          ]
        }
      ]
    },
    {
      "cell_type": "code",
      "source": [
        "# 0) (optional) see what's installed\n",
        "!pip show streamlit watchdog google-adk\n",
        "\n",
        "# 1) remove the conflicting package\n",
        "!pip uninstall -y google-adk\n",
        "\n",
        "# 2) make sure Streamlit gets a compatible watchdog\n",
        "!pip install -U \"watchdog<5,>=2.1.5\" \"streamlit==1.38.0\"\n",
        "\n",
        "# 3) confirm versions\n",
        "import streamlit, watchdog"
      ],
      "metadata": {
        "colab": {
          "base_uri": "https://localhost:8080/"
        },
        "id": "j5aa4sC4EtbH",
        "outputId": "ffcadabe-8dc2-4d70-cfe8-d65f231e38ad"
      },
      "id": "j5aa4sC4EtbH",
      "execution_count": 5,
      "outputs": [
        {
          "output_type": "stream",
          "name": "stdout",
          "text": [
            "\u001b[33mWARNING: Package(s) not found: google-adk\u001b[0m\u001b[33m\n",
            "\u001b[0mName: streamlit\n",
            "Version: 1.38.0\n",
            "Summary: A faster way to build and share data apps\n",
            "Home-page: https://streamlit.io\n",
            "Author: Snowflake Inc\n",
            "Author-email: hello@streamlit.io\n",
            "License: Apache License 2.0\n",
            "Location: /usr/local/lib/python3.12/dist-packages\n",
            "Requires: altair, blinker, cachetools, click, gitpython, numpy, packaging, pandas, pillow, protobuf, pyarrow, pydeck, requests, rich, tenacity, toml, tornado, typing-extensions, watchdog\n",
            "Required-by: \n",
            "---\n",
            "Name: watchdog\n",
            "Version: 4.0.2\n",
            "Summary: Filesystem events monitoring\n",
            "Home-page: https://github.com/gorakhargosh/watchdog\n",
            "Author: Yesudeep Mangalapilly\n",
            "Author-email: yesudeep@gmail.com\n",
            "License: Apache-2.0\n",
            "Location: /usr/local/lib/python3.12/dist-packages\n",
            "Requires: \n",
            "Required-by: streamlit\n",
            "\u001b[33mWARNING: Skipping google-adk as it is not installed.\u001b[0m\u001b[33m\n",
            "\u001b[0mRequirement already satisfied: watchdog<5,>=2.1.5 in /usr/local/lib/python3.12/dist-packages (4.0.2)\n",
            "Requirement already satisfied: streamlit==1.38.0 in /usr/local/lib/python3.12/dist-packages (1.38.0)\n",
            "Requirement already satisfied: altair<6,>=4.0 in /usr/local/lib/python3.12/dist-packages (from streamlit==1.38.0) (5.5.0)\n",
            "Requirement already satisfied: blinker<2,>=1.0.0 in /usr/local/lib/python3.12/dist-packages (from streamlit==1.38.0) (1.9.0)\n",
            "Requirement already satisfied: cachetools<6,>=4.0 in /usr/local/lib/python3.12/dist-packages (from streamlit==1.38.0) (5.5.2)\n",
            "Requirement already satisfied: click<9,>=7.0 in /usr/local/lib/python3.12/dist-packages (from streamlit==1.38.0) (8.3.0)\n",
            "Requirement already satisfied: numpy<3,>=1.20 in /usr/local/lib/python3.12/dist-packages (from streamlit==1.38.0) (2.0.2)\n",
            "Requirement already satisfied: packaging<25,>=20 in /usr/local/lib/python3.12/dist-packages (from streamlit==1.38.0) (24.2)\n",
            "Requirement already satisfied: pandas<3,>=1.3.0 in /usr/local/lib/python3.12/dist-packages (from streamlit==1.38.0) (2.2.2)\n",
            "Requirement already satisfied: pillow<11,>=7.1.0 in /usr/local/lib/python3.12/dist-packages (from streamlit==1.38.0) (10.4.0)\n",
            "Requirement already satisfied: protobuf<6,>=3.20 in /usr/local/lib/python3.12/dist-packages (from streamlit==1.38.0) (5.29.5)\n",
            "Requirement already satisfied: pyarrow>=7.0 in /usr/local/lib/python3.12/dist-packages (from streamlit==1.38.0) (18.1.0)\n",
            "Requirement already satisfied: requests<3,>=2.27 in /usr/local/lib/python3.12/dist-packages (from streamlit==1.38.0) (2.32.4)\n",
            "Requirement already satisfied: rich<14,>=10.14.0 in /usr/local/lib/python3.12/dist-packages (from streamlit==1.38.0) (13.9.4)\n",
            "Requirement already satisfied: tenacity<9,>=8.1.0 in /usr/local/lib/python3.12/dist-packages (from streamlit==1.38.0) (8.5.0)\n",
            "Requirement already satisfied: toml<2,>=0.10.1 in /usr/local/lib/python3.12/dist-packages (from streamlit==1.38.0) (0.10.2)\n",
            "Requirement already satisfied: typing-extensions<5,>=4.3.0 in /usr/local/lib/python3.12/dist-packages (from streamlit==1.38.0) (4.15.0)\n",
            "Requirement already satisfied: gitpython!=3.1.19,<4,>=3.0.7 in /usr/local/lib/python3.12/dist-packages (from streamlit==1.38.0) (3.1.45)\n",
            "Requirement already satisfied: pydeck<1,>=0.8.0b4 in /usr/local/lib/python3.12/dist-packages (from streamlit==1.38.0) (0.9.1)\n",
            "Requirement already satisfied: tornado<7,>=6.0.3 in /usr/local/lib/python3.12/dist-packages (from streamlit==1.38.0) (6.4.2)\n",
            "Requirement already satisfied: jinja2 in /usr/local/lib/python3.12/dist-packages (from altair<6,>=4.0->streamlit==1.38.0) (3.1.6)\n",
            "Requirement already satisfied: jsonschema>=3.0 in /usr/local/lib/python3.12/dist-packages (from altair<6,>=4.0->streamlit==1.38.0) (4.25.1)\n",
            "Requirement already satisfied: narwhals>=1.14.2 in /usr/local/lib/python3.12/dist-packages (from altair<6,>=4.0->streamlit==1.38.0) (2.6.0)\n",
            "Requirement already satisfied: gitdb<5,>=4.0.1 in /usr/local/lib/python3.12/dist-packages (from gitpython!=3.1.19,<4,>=3.0.7->streamlit==1.38.0) (4.0.12)\n",
            "Requirement already satisfied: python-dateutil>=2.8.2 in /usr/local/lib/python3.12/dist-packages (from pandas<3,>=1.3.0->streamlit==1.38.0) (2.9.0.post0)\n",
            "Requirement already satisfied: pytz>=2020.1 in /usr/local/lib/python3.12/dist-packages (from pandas<3,>=1.3.0->streamlit==1.38.0) (2025.2)\n",
            "Requirement already satisfied: tzdata>=2022.7 in /usr/local/lib/python3.12/dist-packages (from pandas<3,>=1.3.0->streamlit==1.38.0) (2025.2)\n",
            "Requirement already satisfied: charset_normalizer<4,>=2 in /usr/local/lib/python3.12/dist-packages (from requests<3,>=2.27->streamlit==1.38.0) (3.4.3)\n",
            "Requirement already satisfied: idna<4,>=2.5 in /usr/local/lib/python3.12/dist-packages (from requests<3,>=2.27->streamlit==1.38.0) (3.10)\n",
            "Requirement already satisfied: urllib3<3,>=1.21.1 in /usr/local/lib/python3.12/dist-packages (from requests<3,>=2.27->streamlit==1.38.0) (2.5.0)\n",
            "Requirement already satisfied: certifi>=2017.4.17 in /usr/local/lib/python3.12/dist-packages (from requests<3,>=2.27->streamlit==1.38.0) (2025.8.3)\n",
            "Requirement already satisfied: markdown-it-py>=2.2.0 in /usr/local/lib/python3.12/dist-packages (from rich<14,>=10.14.0->streamlit==1.38.0) (4.0.0)\n",
            "Requirement already satisfied: pygments<3.0.0,>=2.13.0 in /usr/local/lib/python3.12/dist-packages (from rich<14,>=10.14.0->streamlit==1.38.0) (2.19.2)\n",
            "Requirement already satisfied: smmap<6,>=3.0.1 in /usr/local/lib/python3.12/dist-packages (from gitdb<5,>=4.0.1->gitpython!=3.1.19,<4,>=3.0.7->streamlit==1.38.0) (5.0.2)\n",
            "Requirement already satisfied: MarkupSafe>=2.0 in /usr/local/lib/python3.12/dist-packages (from jinja2->altair<6,>=4.0->streamlit==1.38.0) (3.0.3)\n",
            "Requirement already satisfied: attrs>=22.2.0 in /usr/local/lib/python3.12/dist-packages (from jsonschema>=3.0->altair<6,>=4.0->streamlit==1.38.0) (25.3.0)\n",
            "Requirement already satisfied: jsonschema-specifications>=2023.03.6 in /usr/local/lib/python3.12/dist-packages (from jsonschema>=3.0->altair<6,>=4.0->streamlit==1.38.0) (2025.9.1)\n",
            "Requirement already satisfied: referencing>=0.28.4 in /usr/local/lib/python3.12/dist-packages (from jsonschema>=3.0->altair<6,>=4.0->streamlit==1.38.0) (0.36.2)\n",
            "Requirement already satisfied: rpds-py>=0.7.1 in /usr/local/lib/python3.12/dist-packages (from jsonschema>=3.0->altair<6,>=4.0->streamlit==1.38.0) (0.27.1)\n",
            "Requirement already satisfied: mdurl~=0.1 in /usr/local/lib/python3.12/dist-packages (from markdown-it-py>=2.2.0->rich<14,>=10.14.0->streamlit==1.38.0) (0.1.2)\n",
            "Requirement already satisfied: six>=1.5 in /usr/local/lib/python3.12/dist-packages (from python-dateutil>=2.8.2->pandas<3,>=1.3.0->streamlit==1.38.0) (1.17.0)\n"
          ]
        }
      ]
    },
    {
      "cell_type": "code",
      "source": [
        "from google.colab import drive\n",
        "drive.mount('/content/drive', force_remount=True)\n",
        "\n",
        "# TODO: change this to where you put the files\n",
        "%cd /content/drive/MyDrive\n",
        "!ls -la"
      ],
      "metadata": {
        "id": "0R9HZAUtCrwm",
        "colab": {
          "base_uri": "https://localhost:8080/"
        },
        "outputId": "7b313c41-f1d8-4b1a-e8cc-1950ef008581"
      },
      "id": "0R9HZAUtCrwm",
      "execution_count": 6,
      "outputs": [
        {
          "output_type": "stream",
          "name": "stdout",
          "text": [
            "Mounted at /content/drive\n",
            "/content/drive/MyDrive\n",
            "total 747745\n",
            "-rw------- 1 root root       176 Jan  5  2010 '10 Things Not to Buy in 2010.gdoc'\n",
            "-rw------- 1 root root       176 Mar 13  2008 '2005 CERNER SCHOLARSHIP PROGRAM.gdoc'\n",
            "-rw------- 1 root root    403456 Nov 26  2012 'academic path_final.doc'\n",
            "-rw------- 1 root root      7740 Oct  7 00:10  app_track_c_min.py\n",
            "-rw------- 1 root root       176 Oct  4  2007 'A Whole New World.gdoc'\n",
            "-rw------- 1 root root       176 Dec 10  2009 'Chapter 12 Personality.gdoc'\n",
            "-rwx------ 1 root root  41192406 Sep 22 13:36  cloudflared-linux-amd64\n",
            "-rw------- 1 root root  41192406 Sep 22 13:36  cloudflared-linux-amd64.1\n",
            "-rw------- 1 root root  41192406 Sep 22 13:36  cloudflared-linux-amd64.2\n",
            "drwx------ 2 root root      4096 Jan 31  2024 'Colab Notebooks'\n",
            "-rw------- 1 root root       176 Nov 13  2024 'Copy of  Combat Achievements Per Region (1).gsheet'\n",
            "-rw------- 1 root root       176 Nov 22  2024 'Copy of  Combat Achievements Per Region.gsheet'\n",
            "-rw------- 1 root root       176 Nov 27  2024 'Copy of DPS Calculator.gsheet'\n",
            "-rw------- 1 root root       176 Nov 27  2024 \"Copy of Felkrane's L5 Guide 4.0.gsheet\"\n",
            "-rw------- 1 root root       176 Jul  1  2021 'Copy of LC RESUME TEMPLATE: No Experience Yes Degree 021219  (1).gdoc'\n",
            "-rw------- 1 root root       176 Jul  1  2021 'Copy of LC RESUME TEMPLATE: No Experience Yes Degree 021219 .gdoc'\n",
            "-rw------- 1 root root       176 Nov 21  2024 'Copy of Leagues 5 Planning Sheet V2.9 by Gecko.gsheet'\n",
            "-rw------- 1 root root       176 Nov 22  2024 'Copy of Leagues 5 Planning Sheet V3.0.0 by Gecko (1).gsheet'\n",
            "-rw------- 1 root root       176 Nov 22  2024 'Copy of Leagues 5 Planning Sheet V3.0.0 by Gecko (2).gsheet'\n",
            "-rw------- 1 root root       176 Nov 25  2024 'Copy of Leagues 5 Planning Sheet V3.0.0 by Gecko.gsheet'\n",
            "-rw------- 1 root root       176 Nov 27  2024 'Copy of Leagues 5 Planning Sheet V3.3.1 by Gecko.gsheet'\n",
            "-rw------- 1 root root       176 Nov 26  2024 'Copy of (Mirror 1) Leagues 5 Planning Sheet V3.3.1 by Gecko (1).gsheet'\n",
            "-rw------- 1 root root       176 Nov 26  2024 'Copy of (Mirror 1) Leagues 5 Planning Sheet V3.3.1 by Gecko (2).gsheet'\n",
            "-rw------- 1 root root       176 Nov 26  2024 'Copy of (Mirror 1) Leagues 5 Planning Sheet V3.3.1 by Gecko.gsheet'\n",
            "-rw------- 1 root root       176 Nov 26  2024 'Copy of (Mirror 2) Leagues 5 Planning Sheet V3.3.1 by Gecko (1).gsheet'\n",
            "-rw------- 1 root root       176 Nov 26  2024 'Copy of (Mirror 2) Leagues 5 Planning Sheet V3.3.1 by Gecko (2).gsheet'\n",
            "-rw------- 1 root root       176 Nov 26  2024 'Copy of (Mirror 2) Leagues 5 Planning Sheet V3.3.1 by Gecko.gsheet'\n",
            "-rw------- 1 root root       176 May  6 23:00 'Copy of The People Tracker 3001 (1).gdoc'\n",
            "-rw------- 1 root root       176 May  9 21:52 'Copy of The People Tracker 3001.gdoc'\n",
            "-rw------- 1 root root  61761614 Feb 13  2025  dataset.zip\n",
            "-rw------- 1 root root 452069309 Mar  6  2025  Dataset.zip\n",
            "-rw------- 1 root root    489509 Apr 12 16:49  data.zip\n",
            "drwx------ 2 root root      4096 Apr 29 23:12  drive\n",
            "-rw------- 1 root root   2443712 Apr 20  2024  Dry_Bean_Dataset.xlsx\n",
            "-rw------- 1 root root       176 Nov 23  2011  easybib_20111122235439.gdoc\n",
            "drwx------ 2 root root      4096 Sep 29 23:28  home_repair_ai\n",
            "drwx------ 2 root root      4096 Sep 25 22:38  home_repair_pdfs\n",
            "drwx------ 2 root root      4096 Jan 30  2025  HW1_Dataset\n",
            "-rw------- 1 root root    560115 Jan 30  2025  HW1_Dataset.zip\n",
            "-rw------- 1 root root  10629065 Mar 26  2025  hw5_data-2.zip\n",
            "-rw------- 1 root root       176 Sep  2 00:39 'Invite List.gsheet'\n",
            "drwx------ 2 root root      4096 Apr 29 22:57  market-1501\n",
            "lrw------- 1 root root         0 May  6 15:58  Omniglot -> '/content/drive/ '\n",
            "-rw------- 1 root root   2097152 Mar 11  2023 'Pokemon - Silver Version (UE) [C][!] 5.gbc'\n",
            "-rw------- 1 root root       176 Feb 10  2008 'reg.08 schedule.gdoc'\n",
            "-rw------- 1 root root       176 Dec  7  2007 'restoration pcaket.gdoc'\n",
            "-rw------- 1 root root    218409 Sep 18  2018 'Resume 2018.pages.zip'\n",
            "-rw------- 1 root root     15671 Sep 18  2018  Resume.docx\n",
            "-rw------- 1 root root       176 Sep 23  2009 'SONA 24 hour participant instructions.gdoc'\n",
            "-rw------- 1 root root       176 Jul 23  2013 'super-sub contact list 2013a.gsheet'\n",
            "drwx------ 2 root root      4096 Aug  3  2023  Takeout\n",
            "drwx------ 2 root root      4096 Feb 28  2021 'Takeout (1)'\n",
            "-rw------- 1 root root 111366271 Nov 15  2024  tracks.csv\n",
            "-rw------- 1 root root       176 Nov 30  2012 'Untitled document (1).gdoc'\n",
            "-rw------- 1 root root       176 May  9 22:04 'Untitled document.gdoc'\n",
            "-rw------- 1 root root       165 Mar  3  2023 'youdamaster — Converted from Classic Sites.gsite'\n"
          ]
        }
      ]
    },
    {
      "cell_type": "code",
      "source": [
        "# Start Streamlit in the background on port 8501\n",
        "!streamlit run app_track_c_min.py --server.port 8501 --server.headless true &>/content/streamlit.log &\n",
        "\n",
        "# Give it a moment, then show the first part of the log\n",
        "!sleep 3\n",
        "!sed -n '1,200p' /content/streamlit.log"
      ],
      "metadata": {
        "id": "PzC135gpCvDN",
        "colab": {
          "base_uri": "https://localhost:8080/"
        },
        "outputId": "72f9386c-bb66-4b74-acfa-756624953777"
      },
      "id": "PzC135gpCvDN",
      "execution_count": 7,
      "outputs": [
        {
          "output_type": "stream",
          "name": "stdout",
          "text": [
            "\n",
            "Collecting usage statistics. To deactivate, set browser.gatherUsageStats to false.\n",
            "\n",
            "\n",
            "  You can now view your Streamlit app in your browser.\n",
            "\n",
            "  Local URL: http://localhost:8501\n",
            "  Network URL: http://172.28.0.12:8501\n",
            "  External URL: http://34.16.255.237:8501\n",
            "\n"
          ]
        }
      ]
    },
    {
      "cell_type": "code",
      "source": [
        "!curl -I http://localhost:8501\n"
      ],
      "metadata": {
        "id": "dsKzzY60DaRB",
        "colab": {
          "base_uri": "https://localhost:8080/"
        },
        "outputId": "95b87afa-d670-462e-8b9c-bd27e87f136d"
      },
      "id": "dsKzzY60DaRB",
      "execution_count": 8,
      "outputs": [
        {
          "output_type": "stream",
          "name": "stdout",
          "text": [
            "HTTP/1.1 200 OK\r\n",
            "\u001b[1mServer\u001b[0m: TornadoServer/6.4.2\r\n",
            "\u001b[1mContent-Type\u001b[0m: text/html\r\n",
            "\u001b[1mDate\u001b[0m: Tue, 07 Oct 2025 00:53:13 GMT\r\n",
            "\u001b[1mAccept-Ranges\u001b[0m: bytes\r\n",
            "\u001b[1mEtag\u001b[0m: \"dc6df26b54ef96810fd4ff9271556d7ea55b11d9cc0f482bf926e6799f6e76a78d91a2c3cc93aa97e9be16c46ab15f66ac11789a762bde442c063c90712e860d\"\r\n",
            "\u001b[1mLast-Modified\u001b[0m: Tue, 07 Oct 2025 00:28:02 GMT\r\n",
            "\u001b[1mCache-Control\u001b[0m: no-cache\r\n",
            "\u001b[1mContent-Length\u001b[0m: 891\r\n",
            "\u001b[1mVary\u001b[0m: Accept-Encoding\r\n",
            "\r\n"
          ]
        }
      ]
    },
    {
      "cell_type": "code",
      "source": [
        "!./cloudflared-linux-amd64 tunnel --url http://localhost:8501 --no-autoupdate"
      ],
      "metadata": {
        "id": "kuYg2wF_DhL9",
        "colab": {
          "base_uri": "https://localhost:8080/"
        },
        "outputId": "3ded2b1e-07a3-4e87-91a9-6298fe4a8a92"
      },
      "id": "kuYg2wF_DhL9",
      "execution_count": 9,
      "outputs": [
        {
          "output_type": "stream",
          "name": "stdout",
          "text": [
            "\u001b[90m2025-10-07T00:53:15Z\u001b[0m \u001b[32mINF\u001b[0m Thank you for trying Cloudflare Tunnel. Doing so, without a Cloudflare account, is a quick way to experiment and try it out. However, be aware that these account-less Tunnels have no uptime guarantee, are subject to the Cloudflare Online Services Terms of Use (https://www.cloudflare.com/website-terms/), and Cloudflare reserves the right to investigate your use of Tunnels for violations of such terms. If you intend to use Tunnels in production you should use a pre-created named tunnel by following: https://developers.cloudflare.com/cloudflare-one/connections/connect-apps\n",
            "\u001b[90m2025-10-07T00:53:15Z\u001b[0m \u001b[32mINF\u001b[0m Requesting new quick Tunnel on trycloudflare.com...\n",
            "\u001b[90m2025-10-07T00:53:18Z\u001b[0m \u001b[32mINF\u001b[0m +--------------------------------------------------------------------------------------------+\n",
            "\u001b[90m2025-10-07T00:53:18Z\u001b[0m \u001b[32mINF\u001b[0m |  Your quick Tunnel has been created! Visit it at (it may take some time to be reachable):  |\n",
            "\u001b[90m2025-10-07T00:53:18Z\u001b[0m \u001b[32mINF\u001b[0m |  https://upon-participation-frankfurt-vacations.trycloudflare.com                          |\n",
            "\u001b[90m2025-10-07T00:53:18Z\u001b[0m \u001b[32mINF\u001b[0m +--------------------------------------------------------------------------------------------+\n",
            "\u001b[90m2025-10-07T00:53:18Z\u001b[0m \u001b[32mINF\u001b[0m Cannot determine default configuration path. No file [config.yml config.yaml] in [~/.cloudflared ~/.cloudflare-warp ~/cloudflare-warp /etc/cloudflared /usr/local/etc/cloudflared]\n",
            "\u001b[90m2025-10-07T00:53:18Z\u001b[0m \u001b[32mINF\u001b[0m Version 2025.9.1 (Checksum 3dc1dc4252eae3c691861f926e2b8640063a2ce534b07b7a3f4ec2de439ecfe3)\n",
            "\u001b[90m2025-10-07T00:53:18Z\u001b[0m \u001b[32mINF\u001b[0m GOOS: linux, GOVersion: go1.24.4, GoArch: amd64\n",
            "\u001b[90m2025-10-07T00:53:18Z\u001b[0m \u001b[32mINF\u001b[0m Settings: map[ha-connections:1 no-autoupdate:true protocol:quic url:http://localhost:8501]\n",
            "\u001b[90m2025-10-07T00:53:18Z\u001b[0m \u001b[32mINF\u001b[0m cloudflared will not automatically update when run from the shell. To enable auto-updates, run cloudflared as a service: https://developers.cloudflare.com/cloudflare-one/connections/connect-apps/configure-tunnels/local-management/as-a-service/\n",
            "\u001b[90m2025-10-07T00:53:18Z\u001b[0m \u001b[32mINF\u001b[0m Generated Connector ID: b29cd87f-9984-4c15-a839-9c7b98db7c2a\n",
            "\u001b[90m2025-10-07T00:53:18Z\u001b[0m \u001b[32mINF\u001b[0m Initial protocol quic\n",
            "\u001b[90m2025-10-07T00:53:18Z\u001b[0m \u001b[32mINF\u001b[0m ICMP proxy will use 172.28.0.12 as source for IPv4\n",
            "\u001b[90m2025-10-07T00:53:18Z\u001b[0m \u001b[32mINF\u001b[0m ICMP proxy will use :: as source for IPv6\n",
            "\u001b[90m2025-10-07T00:53:18Z\u001b[0m \u001b[1m\u001b[31mERR\u001b[0m\u001b[0m Cannot determine default origin certificate path. No file cert.pem in [~/.cloudflared ~/.cloudflare-warp ~/cloudflare-warp /etc/cloudflared /usr/local/etc/cloudflared]. You need to specify the origin certificate path by specifying the origincert option in the configuration file, or set TUNNEL_ORIGIN_CERT environment variable \u001b[36moriginCertPath=\u001b[0m\n",
            "\u001b[90m2025-10-07T00:53:18Z\u001b[0m \u001b[32mINF\u001b[0m ICMP proxy will use 172.28.0.12 as source for IPv4\n",
            "\u001b[90m2025-10-07T00:53:18Z\u001b[0m \u001b[32mINF\u001b[0m ICMP proxy will use :: as source for IPv6\n",
            "\u001b[90m2025-10-07T00:53:18Z\u001b[0m \u001b[32mINF\u001b[0m Starting metrics server on 127.0.0.1:20241/metrics\n",
            "\u001b[90m2025-10-07T00:53:18Z\u001b[0m \u001b[32mINF\u001b[0m Tunnel connection curve preferences: [X25519MLKEM768 CurveP256] \u001b[36mconnIndex=\u001b[0m0 \u001b[36mevent=\u001b[0m0 \u001b[36mip=\u001b[0m198.41.200.193\n",
            "2025/10/07 00:53:18 failed to sufficiently increase receive buffer size (was: 208 kiB, wanted: 7168 kiB, got: 416 kiB). See https://github.com/quic-go/quic-go/wiki/UDP-Buffer-Sizes for details.\n",
            "\u001b[90m2025-10-07T00:53:18Z\u001b[0m \u001b[32mINF\u001b[0m Registered tunnel connection \u001b[36mconnIndex=\u001b[0m0 \u001b[36mconnection=\u001b[0m705e47d9-6e93-4e15-b43b-cb423126082a \u001b[36mevent=\u001b[0m0 \u001b[36mip=\u001b[0m198.41.200.193 \u001b[36mlocation=\u001b[0mlax06 \u001b[36mprotocol=\u001b[0mquic\n",
            "\u001b[90m2025-10-07T00:55:52Z\u001b[0m \u001b[32mINF\u001b[0m Initiating graceful shutdown due to signal interrupt ...\n",
            "\u001b[90m2025-10-07T00:55:52Z\u001b[0m \u001b[1m\u001b[31mERR\u001b[0m\u001b[0m failed to run the datagram handler \u001b[31merror=\u001b[0m\u001b[31m\"context canceled\"\u001b[0m \u001b[36mconnIndex=\u001b[0m0 \u001b[36mevent=\u001b[0m0 \u001b[36mip=\u001b[0m198.41.200.193\n",
            "\u001b[90m2025-10-07T00:55:52Z\u001b[0m \u001b[1m\u001b[31mERR\u001b[0m\u001b[0m failed to serve tunnel connection \u001b[31merror=\u001b[0m\u001b[31m\"accept stream listener encountered a failure while serving\"\u001b[0m \u001b[36mconnIndex=\u001b[0m0 \u001b[36mevent=\u001b[0m0 \u001b[36mip=\u001b[0m198.41.200.193\n",
            "\u001b[90m2025-10-07T00:55:52Z\u001b[0m \u001b[1m\u001b[31mERR\u001b[0m\u001b[0m Serve tunnel error \u001b[31merror=\u001b[0m\u001b[31m\"accept stream listener encountered a failure while serving\"\u001b[0m \u001b[36mconnIndex=\u001b[0m0 \u001b[36mevent=\u001b[0m0 \u001b[36mip=\u001b[0m198.41.200.193\n",
            "\u001b[90m2025-10-07T00:55:52Z\u001b[0m \u001b[32mINF\u001b[0m Retrying connection in up to 1s \u001b[36mconnIndex=\u001b[0m0 \u001b[36mevent=\u001b[0m0 \u001b[36mip=\u001b[0m198.41.200.193\n",
            "\u001b[90m2025-10-07T00:55:52Z\u001b[0m \u001b[1m\u001b[31mERR\u001b[0m\u001b[0m Connection terminated \u001b[36mconnIndex=\u001b[0m0\n",
            "\u001b[90m2025-10-07T00:55:52Z\u001b[0m \u001b[1m\u001b[31mERR\u001b[0m\u001b[0m no more connections active and exiting\n",
            "\u001b[90m2025-10-07T00:55:52Z\u001b[0m \u001b[32mINF\u001b[0m Tunnel server stopped\n",
            "\u001b[90m2025-10-07T00:55:52Z\u001b[0m \u001b[32mINF\u001b[0m Metrics server stopped\n"
          ]
        }
      ]
    },
    {
      "cell_type": "code",
      "source": [
        "!sed -n '1,120p' /content/streamlit.log"
      ],
      "metadata": {
        "id": "SmF-yKOJDtqQ"
      },
      "id": "SmF-yKOJDtqQ",
      "execution_count": null,
      "outputs": []
    }
  ],
  "metadata": {
    "colab": {
      "provenance": [],
      "gpuType": "T4",
      "include_colab_link": true
    },
    "language_info": {
      "name": "python"
    },
    "kernelspec": {
      "name": "python3",
      "display_name": "Python 3"
    },
    "accelerator": "GPU"
  },
  "nbformat": 4,
  "nbformat_minor": 5
}